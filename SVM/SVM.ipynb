{
 "cells": [
  {
   "cell_type": "code",
   "execution_count": 1,
   "id": "725d3baf-f196-4f23-bf28-f2acb1826aa5",
   "metadata": {},
   "outputs": [],
   "source": [
    "import numpy as np\n",
    "import pandas as pad\n",
    "import seaborn as sns\n",
    "import matplotlib as plt\n",
    "from sklearn.datasets import load_iris\n",
    "from sklearn.decomposition import PCA\n",
    "from sklearn.model_selection import train_test_split"
   ]
  },
  {
   "cell_type": "markdown",
   "id": "f67bbfad-3d71-4c6d-bb5d-6f8f1bb8006c",
   "metadata": {},
   "source": [
    "Code for Linear SVM"
   ]
  },
  {
   "cell_type": "code",
   "execution_count": 10,
   "id": "10d228d5-8f30-4ed8-a926-03d44b5dc25b",
   "metadata": {},
   "outputs": [],
   "source": [
    "class LinearSvm:\n",
    "    def _init_(self,alpha,epochs):\n",
    "        self.c=c\n",
    "        self.alpha=alpha\n",
    "        self.epochs=epochs\n",
    "        \n",
    "    def fit(self,x,y):\n",
    "        self.w= np.zeros(x.shape[1])\n",
    "        self.b=0\n",
    "\n",
    "        for epoch in range(self.epochs):\n",
    "            for i in range(len(x)):\n",
    "                condition= y[i]*(np.dot(x[i],self.w[i])+self.b)\n",
    "                if condition>=1:\n",
    "                    self.w=self.w- self.alpha*self.w\n",
    "                else:\n",
    "                    self.w=self.w-alpha*(self.w-self.c*y[i]*x[i])\n",
    "                    self.b=self.b-alpha*(-c*y[i])\n",
    "                    \n",
    "    def decision_function(self,x):\n",
    "        return np.dot(X, self.w) + self.b\n",
    "\n",
    "    def predict(self, X):\n",
    "        return np.sign(self.decision_function(X))"
   ]
  },
  {
   "cell_type": "markdown",
   "id": "112e0a17-5f85-40de-a104-2b059ad64aae",
   "metadata": {},
   "source": [
    "Code for One vs Rest"
   ]
  },
  {
   "cell_type": "code",
   "execution_count": 11,
   "id": "934fde06-77e0-46c3-a3f4-132254ed31f9",
   "metadata": {},
   "outputs": [
    {
     "ename": "SyntaxError",
     "evalue": "incomplete input (1638260960.py, line 10)",
     "output_type": "error",
     "traceback": [
      "\u001b[1;36m  Cell \u001b[1;32mIn[11], line 10\u001b[1;36m\u001b[0m\n\u001b[1;33m    for cls in self.classes:\u001b[0m\n\u001b[1;37m                            ^\u001b[0m\n\u001b[1;31mSyntaxError\u001b[0m\u001b[1;31m:\u001b[0m incomplete input\n"
     ]
    }
   ],
   "source": [
    "class OneVsRestSVM:\n",
    "    def __init__(self, C=1.0, alpha=0.001, epochs=1000):\n",
    "        self.C = C\n",
    "        self.lr = lr\n",
    "        self.epochs = epochs\n",
    "        self.models = {}\n",
    "\n",
    "    def fit(self, x, y):\n",
    "        self.classes = np.unique(y)\n",
    "        for cls in self.classes:\n",
    "            enc=np.where(y==cls,1,-1)\n",
    "            lin_svm=LinearSvm(c=self.c,alpha=self.alpha,epochs=self.epochs)\n",
    "            model.fit(x,enc)\n",
    "            self.models[cls]=model\n",
    "            "
   ]
  },
  {
   "cell_type": "code",
   "execution_count": null,
   "id": "8390fc70-d69b-4b7a-abb8-357dffc30627",
   "metadata": {},
   "outputs": [],
   "source": []
  }
 ],
 "metadata": {
  "kernelspec": {
   "display_name": "Python 3 (ipykernel)",
   "language": "python",
   "name": "python3"
  },
  "language_info": {
   "codemirror_mode": {
    "name": "ipython",
    "version": 3
   },
   "file_extension": ".py",
   "mimetype": "text/x-python",
   "name": "python",
   "nbconvert_exporter": "python",
   "pygments_lexer": "ipython3",
   "version": "3.12.3"
  }
 },
 "nbformat": 4,
 "nbformat_minor": 5
}
